{
 "cells": [
  {
   "cell_type": "code",
   "execution_count": null,
   "id": "4a1f2533-8da1-4b3e-b08b-d27c74ccd89c",
   "metadata": {},
   "outputs": [],
   "source": [
    "import torch\n"
   ]
  },
  {
   "cell_type": "code",
   "execution_count": null,
   "id": "dbaa7b1c-a940-4a9b-ab15-a37e04aebb57",
   "metadata": {},
   "outputs": [],
   "source": [
    "tensor = torch.sigmoid(torch.rand(15,15))"
   ]
  },
  {
   "cell_type": "code",
   "execution_count": null,
   "id": "2d5b9c3c-a9a8-4fe7-9774-4888d0db49eb",
   "metadata": {},
   "outputs": [],
   "source": [
    "from datasets import load_dataset, Image"
   ]
  },
  {
   "cell_type": "code",
   "execution_count": null,
   "id": "98e367a8-3660-4e58-853a-b57de09e5389",
   "metadata": {},
   "outputs": [],
   "source": [
    "dataset = load_dataset(\"beans\", split=\"train\")"
   ]
  },
  {
   "cell_type": "code",
   "execution_count": null,
   "id": "ce8a0caa-dc17-42ee-9d9f-bef279fea18d",
   "metadata": {},
   "outputs": [],
   "source": [
    "type(dataset[0]['image'])"
   ]
  },
  {
   "cell_type": "code",
   "execution_count": null,
   "id": "fa6788fb-c9d2-42c3-a430-cef9e951d4ca",
   "metadata": {},
   "outputs": [],
   "source": [
    "from torchvision import transforms"
   ]
  },
  {
   "cell_type": "code",
   "execution_count": null,
   "id": "c19c7f2a-f528-400f-88fe-9aafa1ab4f0d",
   "metadata": {},
   "outputs": [],
   "source": [
    "images = dataset[:100]['image']\n",
    "\n",
    "trans = transforms.ToTensor()\n",
    "\n",
    "tensor_list = []\n",
    "\n",
    "for image in images:\n",
    "    tensor_image = trans(image).unsqueeze(0)\n",
    "    tensor_list.append(tensor_image)\n",
    "\n",
    "tensor = torch.cat(tensor_list, dim=0)\n",
    "\n",
    "print(tensor.shape)"
   ]
  },
  {
   "cell_type": "code",
   "execution_count": null,
   "id": "07de2543-2a04-426f-9c2b-10568ae5d70b",
   "metadata": {},
   "outputs": [],
   "source": [
    "image = dataset[0]['image']\n",
    "\n",
    "trans = transforms.ToTensor()\n",
    "\n",
    "tensor_image = trans(image).unsqueeze(0)\n",
    "\n",
    "print(tensor_image.shape)"
   ]
  },
  {
   "cell_type": "code",
   "execution_count": null,
   "id": "ed26b551-4775-4bf7-9507-125594a8f4dc",
   "metadata": {},
   "outputs": [],
   "source": [
    "import matplotlib.pyplot as plt\n",
    "\n",
    "# Convert the tensor to a NumPy array\n",
    "image_array = tensor_image.squeeze(0).permute(1, 2, 0).cpu().numpy()\n",
    "\n",
    "# Ensure values are in the range [0, 1] (assuming your tensor values are normalized)\n",
    "image_array = image_array.clip(0, 1)\n",
    "\n",
    "# Display the image\n",
    "plt.imshow(image_array)\n",
    "plt.axis('off')  # Turn off the axis labels and ticks\n",
    "plt.show()"
   ]
  },
  {
   "cell_type": "code",
   "execution_count": null,
   "id": "661a0d76-a5e8-4a08-bec9-cdb350774626",
   "metadata": {},
   "outputs": [],
   "source": [
    "import numpy as np"
   ]
  },
  {
   "cell_type": "code",
   "execution_count": null,
   "id": "849dad33-bbbd-46ba-b85d-49e22aac8220",
   "metadata": {},
   "outputs": [],
   "source": [
    "images = np.array(load_dataset(\"beans\", split=\"train\")['image'])\n",
    "images.shape"
   ]
  },
  {
   "cell_type": "code",
   "execution_count": null,
   "id": "69699fdb-f246-4520-827b-954c7e26a6d7",
   "metadata": {},
   "outputs": [],
   "source": [
    "from models import modules"
   ]
  },
  {
   "cell_type": "code",
   "execution_count": null,
   "id": "12e740a4-5eed-4255-aacb-bb71802128fd",
   "metadata": {},
   "outputs": [],
   "source": [
    "import bvae"
   ]
  },
  {
   "cell_type": "code",
   "execution_count": null,
   "id": "be6cb5e6-c1be-4a85-a4a5-09aa2141b13b",
   "metadata": {},
   "outputs": [],
   "source": [
    "encoder = modules.Encoder(ch = 128, \n",
    "                         out_ch = 3, \n",
    "                         num_res_blocks = 2,\n",
    "                         attn_resolutions = [64,16], \n",
    "                         ch_mult = (1,1,2,2,4),\n",
    "                         in_channels = 3,\n",
    "                         resolution = 128, \n",
    "                         z_channels = 256,\n",
    "                         double_z = False)"
   ]
  },
  {
   "cell_type": "code",
   "execution_count": null,
   "id": "3fd3b654-401a-4a31-87b2-0867e48c0576",
   "metadata": {},
   "outputs": [],
   "source": [
    "images = dataset[:100]['image']\n",
    "\n",
    "batch = images[:3]\n",
    "\n",
    "trans = transforms.ToTensor()\n",
    "\n",
    "tensor_list = []\n",
    "\n",
    "for image in batch:\n",
    "    img = image.copy()\n",
    "    img = img.resize((128, 128))\n",
    "    tensor_image = trans(img).unsqueeze(0)\n",
    "    tensor_list.append(tensor_image)\n",
    "\n",
    "tensor = torch.cat(tensor_list, dim=0)"
   ]
  },
  {
   "cell_type": "code",
   "execution_count": null,
   "id": "f0b859c6-0a5e-40c6-84a8-355323a94c97",
   "metadata": {},
   "outputs": [],
   "source": [
    "print(tensor.shape)"
   ]
  },
  {
   "cell_type": "code",
   "execution_count": null,
   "id": "a2b224ea-6d75-46cb-ae0a-110b2dbc6a9d",
   "metadata": {},
   "outputs": [],
   "source": [
    "h = encoder.forward(tensor)\n",
    "\n",
    "print(h.shape)"
   ]
  },
  {
   "cell_type": "code",
   "execution_count": null,
   "id": "0a88eb77-a78a-47b7-93d8-16f702b5840e",
   "metadata": {},
   "outputs": [],
   "source": [
    "decoder = modules.Decoder(ch = 128, \n",
    "                         out_ch = 3, \n",
    "                         num_res_blocks = 2,\n",
    "                         attn_resolutions = [16], \n",
    "                         ch_mult = (1,1,2,2,4),\n",
    "                         in_channels = 3,\n",
    "                         resolution = 128, \n",
    "                         z_channels = 256)"
   ]
  },
  {
   "cell_type": "code",
   "execution_count": null,
   "id": "d27a0928-dd0a-4c81-bac8-1153aa3eaaaf",
   "metadata": {},
   "outputs": [],
   "source": [
    "x = decoder.forward(h)\n",
    "\n",
    "print(x.shape)"
   ]
  },
  {
   "cell_type": "code",
   "execution_count": null,
   "id": "c40e5060-1a63-46ac-ba1c-ed04564a2ae3",
   "metadata": {},
   "outputs": [],
   "source": [
    "sigma_h = torch.sigmoid(h)\n",
    "print(sigma_h.shape)\n",
    "print(sigma_h[0,0])"
   ]
  },
  {
   "cell_type": "code",
   "execution_count": null,
   "id": "b4ad7245-fd41-4cbc-a39c-94df7c7c9aab",
   "metadata": {},
   "outputs": [],
   "source": [
    "binary = torch.bernoulli(sigma_h)\n",
    "print(binary.shape)\n",
    "print(binary[0,0])"
   ]
  },
  {
   "cell_type": "code",
   "execution_count": null,
   "id": "6f349d66-5adf-40b3-9b14-c668f910bba6",
   "metadata": {},
   "outputs": [],
   "source": [
    "aux_binary = binary.detach() + sigma_h - sigma_h.detach()\n",
    "print(aux_binary.shape)\n",
    "print(aux_binary[0,0])"
   ]
  },
  {
   "cell_type": "code",
   "execution_count": null,
   "id": "3bb10334-f339-445b-b89e-d50bc7a51b45",
   "metadata": {},
   "outputs": [],
   "source": [
    "x = decoder.forward(aux_binary)\n",
    "https://portal-wifi.ub.edu/upload/custom/PortalUB/welcome.html\n",
    "print(x.shape)"
   ]
  },
  {
   "cell_type": "code",
   "execution_count": null,
   "id": "6b84dbd3-bace-436c-bf6b-6d036f9d7c9d",
   "metadata": {},
   "outputs": [],
   "source": [
    "quantizer = modules.BinaryQuantizer()"
   ]
  },
  {
   "cell_type": "code",
   "execution_count": null,
   "id": "36190d3b-9d2f-4c5d-8b83-90ef8e165db2",
   "metadata": {},
   "outputs": [],
   "source": [
    "binary = quantizer.forward(h)"
   ]
  },
  {
   "cell_type": "code",
   "execution_count": null,
   "id": "ba054c8d-d20c-4c28-9ad4-d7a085be7abb",
   "metadata": {},
   "outputs": [],
   "source": [
    "# Check if a GPU is available\n",
    "if torch.cuda.is_available():\n",
    "    # Set the device to the first available GPU\n",
    "    device = torch.device(\"cuda\")\n",
    "    print(\"GPU is available.\")\n",
    "else:\n",
    "    # If no GPU is available, use the CPU\n",
    "    device = torch.device(\"cpu\")\n",
    "    print(\"GPU is not available, using CPU.\")"
   ]
  },
  {
   "cell_type": "code",
   "execution_count": null,
   "id": "362f447b-1502-4b9a-8c69-8035bfc34c17",
   "metadata": {},
   "outputs": [],
   "source": [
    "model = bvae.BVAEModel(device)"
   ]
  },
  {
   "cell_type": "code",
   "execution_count": 1,
   "id": "d45888cc-c466-4625-8bc5-899ec76f6f47",
   "metadata": {},
   "outputs": [
    {
     "name": "stdout",
     "output_type": "stream",
     "text": [
      "GPU is available.\n",
      "Working with z of shape (1, 32, 16, 16) = 8192 dimensions.\n"
     ]
    },
    {
     "name": "stderr",
     "output_type": "stream",
     "text": [
      "/opt/conda/lib/python3.10/site-packages/torchvision/models/_utils.py:208: UserWarning: The parameter 'pretrained' is deprecated since 0.13 and may be removed in the future, please use 'weights' instead.\n",
      "  warnings.warn(\n",
      "/opt/conda/lib/python3.10/site-packages/torchvision/models/_utils.py:223: UserWarning: Arguments other than a weight enum or `None` for 'weights' are deprecated since 0.13 and may be removed in the future. The current behavior is equivalent to passing `weights=VGG16_Weights.IMAGENET1K_V1`. You can also use `weights=VGG16_Weights.DEFAULT` to get the most up-to-date weights.\n",
      "  warnings.warn(msg)\n"
     ]
    },
    {
     "name": "stdout",
     "output_type": "stream",
     "text": [
      "Epoch  0\n",
      "Epoch  1\n",
      "Epoch  2\n",
      "Epoch  3\n",
      "Epoch  4\n",
      "Epoch  5\n",
      "Epoch  6\n",
      "Epoch  7\n",
      "Epoch  8\n",
      "Epoch  9\n",
      "Epoch  10\n",
      "Epoch  11\n",
      "Epoch  12\n",
      "Epoch  13\n",
      "Epoch  14\n",
      "Epoch  15\n",
      "Epoch  16\n",
      "Epoch  17\n",
      "Epoch  18\n",
      "Epoch  19\n"
     ]
    },
    {
     "data": {
      "image/png": "[encoded data removed]",
      "text/plain": [
       "<Figure size 640x480 with 1 Axes>"
      ]
     },
     "metadata": {},
     "output_type": "display_data"
    },
    {
     "data": {
      "image/png": "[encoded data removed]",
      "text/plain": [
       "<Figure size 640x480 with 1 Axes>"
      ]
     },
     "metadata": {},
     "output_type": "display_data"
    },
    {
     "data": {
      "text/plain": [
       "0"
      ]
     },
     "execution_count": 1,
     "metadata": {},
     "output_type": "execute_result"
    }
   ],
   "source": [
    "import bvae\n",
    "bvae.main()"
   ]
  },
  {
   "cell_type": "code",
   "execution_count": null,
   "id": "e5b1ff77-7113-4303-bd88-57405a260517",
   "metadata": {},
   "outputs": [],
   "source": [
    "import sys\n",
    "\n",
    "import torch\n",
    "import torch.nn as nn\n",
    "import torch.optim as optim\n",
    "import numpy as np\n",
    "from torchvision import transforms"
   ]
  },
  {
   "cell_type": "code",
   "execution_count": null,
   "id": "12aa1f2d-497b-455b-a389-abbbf2640905",
   "metadata": {},
   "outputs": [],
   "source": [
    "from datasets import load_dataset, Image"
   ]
  },
  {
   "cell_type": "code",
   "execution_count": null,
   "id": "c42c7851-e5cf-436f-9b24-900f47688341",
   "metadata": {},
   "outputs": [],
   "source": [
    "!pip install datasets"
   ]
  },
  {
   "cell_type": "code",
   "execution_count": 1,
   "id": "cf246e28-8da2-426c-8161-dbcc2ac3c5e8",
   "metadata": {},
   "outputs": [
    {
     "name": "stdout",
     "output_type": "stream",
     "text": [
      "LICENSE\t\tbody_models   eval     original.png\t t2m\n",
      "README.md\tdata_loaders  glove    predicted.png\t train\n",
      "Untitled.ipynb\tdataset       kit      requirements.txt  utils\n",
      "bld\t\tdockers       main.py  results\t\t visualize\n"
     ]
    }
   ],
   "source": [
    "!ls"
   ]
  },
  {
   "cell_type": "code",
   "execution_count": 1,
   "id": "e950f578",
   "metadata": {},
   "outputs": [
    {
     "name": "stdout",
     "output_type": "stream",
     "text": [
      "Requirement already satisfied: numpy in /opt/conda/lib/python3.10/site-packages (1.24.3)\n",
      "\u001b[33mWARNING: Running pip as the 'root' user can result in broken permissions and conflicting behaviour with the system package manager. It is recommended to use a virtual environment instead: https://pip.pypa.io/warnings/venv\u001b[0m\u001b[33m\n",
      "\u001b[0m"
     ]
    }
   ],
   "source": [
    "!pip install numpy\n",
    "import numpy as np\n",
    "import glob"
   ]
  },
  {
   "cell_type": "code",
   "execution_count": 2,
   "id": "36a535b0",
   "metadata": {},
   "outputs": [
    {
     "name": "stdout",
     "output_type": "stream",
     "text": [
      "29226\n"
     ]
    }
   ],
   "source": [
    "i = 0\n",
    "elements = []\n",
    "for np_name in glob.glob('./dataset/HumanML3D/new_joints/*.npy'):\n",
    "    elements.append(np.load(np_name))\n",
    "    i = i+1\n",
    "\n",
    "print(i)"
   ]
  },
  {
   "cell_type": "code",
   "execution_count": 3,
   "id": "42787c13",
   "metadata": {},
   "outputs": [
    {
     "data": {
      "text/plain": [
       "29226"
      ]
     },
     "execution_count": 3,
     "metadata": {},
     "output_type": "execute_result"
    }
   ],
   "source": [
    "len(elements)"
   ]
  },
  {
   "cell_type": "code",
   "execution_count": 4,
   "id": "3ea5715b",
   "metadata": {},
   "outputs": [
    {
     "data": {
      "text/plain": [
       "(178, 22, 3)"
      ]
     },
     "execution_count": 4,
     "metadata": {},
     "output_type": "execute_result"
    }
   ],
   "source": [
    "elements[0].shape"
   ]
  },
  {
   "cell_type": "code",
   "execution_count": 5,
   "id": "9f66c5f6",
   "metadata": {},
   "outputs": [
    {
     "data": {
      "text/plain": [
       "(22, 3)"
      ]
     },
     "execution_count": 5,
     "metadata": {},
     "output_type": "execute_result"
    }
   ],
   "source": [
    "elements[0][0].shape"
   ]
  },
  {
   "cell_type": "code",
   "execution_count": 6,
   "id": "63f10af1",
   "metadata": {},
   "outputs": [
    {
     "data": {
      "text/plain": [
       "array([[ 0.        ,  0.953574  ,  0.        ],\n",
       "       [ 0.06009363,  0.8708678 , -0.01314099],\n",
       "       [-0.0634418 ,  0.8640657 , -0.00614507],\n",
       "       [ 0.00462708,  1.0765729 , -0.04647632],\n",
       "       [ 0.13988441,  0.48637736, -0.04034056],\n",
       "       [-0.14802395,  0.4856434 , -0.04961063],\n",
       "       [ 0.01095866,  1.2175411 , -0.02215888],\n",
       "       [ 0.11178198,  0.05804033, -0.0926479 ],\n",
       "       [-0.14620459,  0.06240432, -0.09475268],\n",
       "       [ 0.00840835,  1.2743795 , -0.01483794],\n",
       "       [ 0.16929355,  0.00432785,  0.02720898],\n",
       "       [-0.20436776,  0.00637102,  0.03095876],\n",
       "       [-0.0018625 ,  1.4932139 , -0.02601312],\n",
       "       [ 0.08265898,  1.3900502 , -0.01796023],\n",
       "       [-0.07309093,  1.391376  , -0.02994861],\n",
       "       [ 0.00488608,  1.5617805 ,  0.0506036 ],\n",
       "       [ 0.21047482,  1.3722306 , -0.04380216],\n",
       "       [-0.1935984 ,  1.3783989 , -0.05079801],\n",
       "       [ 0.22031127,  1.117612  , -0.07604216],\n",
       "       [-0.1985819 ,  1.1198679 , -0.09931858],\n",
       "       [ 0.2752771 ,  0.87000704,  0.00416219],\n",
       "       [-0.26700026,  0.86657536, -0.03611171]], dtype=float32)"
      ]
     },
     "execution_count": 6,
     "metadata": {},
     "output_type": "execute_result"
    }
   ],
   "source": [
    "elements[0][0]"
   ]
  },
  {
   "cell_type": "code",
   "execution_count": 13,
   "id": "1d061f87",
   "metadata": {},
   "outputs": [
    {
     "name": "stdout",
     "output_type": "stream",
     "text": [
      "Requirement already satisfied: tqdm in /opt/conda/lib/python3.10/site-packages (4.65.0)\n",
      "\u001b[33mWARNING: Running pip as the 'root' user can result in broken permissions and conflicting behaviour with the system package manager. It is recommended to use a virtual environment instead: https://pip.pypa.io/warnings/venv\u001b[0m\u001b[33m\n",
      "\u001b[0m"
     ]
    }
   ],
   "source": [
    "!pip install tqdm"
   ]
  },
  {
   "cell_type": "code",
   "execution_count": 1,
   "id": "fc60b0d6",
   "metadata": {},
   "outputs": [],
   "source": [
    "import os\n",
    "from os.path import join as pjoin\n",
    "from tqdm import tqdm\n",
    "import numpy as np\n",
    "\n",
    "import matplotlib\n",
    "import matplotlib.pyplot as plt\n",
    "from mpl_toolkits.mplot3d import Axes3D\n",
    "from matplotlib.animation import FuncAnimation, PillowWriter\n",
    "from mpl_toolkits.mplot3d.art3d import Poly3DCollection\n",
    "import mpl_toolkits.mplot3d.axes3d as p3\n",
    "def plot_3d_motion(save_path, kinematic_tree, joints, title, figsize=(10, 10), fps=120, radius=4):\n",
    "#     matplotlib.use('Agg')\n",
    "\n",
    "    title_sp = title.split(' ')\n",
    "    if len(title_sp) > 10:\n",
    "        title = '\\n'.join([' '.join(title_sp[:10]), ' '.join(title_sp[10:])])\n",
    "    def init():\n",
    "        ax.set_xlim3d([-radius / 2, radius / 2])\n",
    "        ax.set_ylim3d([0, radius])\n",
    "        ax.set_zlim3d([0, radius])\n",
    "        # print(title)\n",
    "        fig.suptitle(title, fontsize=20)\n",
    "        ax.grid(b=False)\n",
    "\n",
    "    def plot_xzPlane(minx, maxx, miny, minz, maxz):\n",
    "        ## Plot a plane XZ\n",
    "        verts = [\n",
    "            [minx, miny, minz],\n",
    "            [minx, miny, maxz],\n",
    "            [maxx, miny, maxz],\n",
    "            [maxx, miny, minz]\n",
    "        ]\n",
    "        xz_plane = Poly3DCollection([verts])\n",
    "        xz_plane.set_facecolor((0.5, 0.5, 0.5, 0.5))\n",
    "        ax.add_collection3d(xz_plane)\n",
    "\n",
    "    #         return ax\n",
    "\n",
    "    # (seq_len, joints_num, 3)\n",
    "    data = joints.copy().reshape(len(joints), -1, 3)\n",
    "    fig = plt.figure(figsize=figsize)\n",
    "    ax = p3.Axes3D(fig)\n",
    "    init()\n",
    "    MINS = data.min(axis=0).min(axis=0)\n",
    "    MAXS = data.max(axis=0).max(axis=0)\n",
    "    colors = ['red', 'blue', 'black', 'red', 'blue',  \n",
    "              'darkblue', 'darkblue', 'darkblue', 'darkblue', 'darkblue',\n",
    "             'darkred', 'darkred','darkred','darkred','darkred']\n",
    "    frame_number = data.shape[0]\n",
    "    #     print(data.shape)\n",
    "\n",
    "    height_offset = MINS[1]\n",
    "    data[:, :, 1] -= height_offset\n",
    "    trajec = data[:, 0, [0, 2]]\n",
    "    \n",
    "    data[..., 0] -= data[:, 0:1, 0]\n",
    "    data[..., 2] -= data[:, 0:1, 2]\n",
    "\n",
    "    #     print(trajec.shape)\n",
    "\n",
    "    def update(index):\n",
    "        #         print(index)\n",
    "        ax.lines = []\n",
    "        ax.collections = []\n",
    "        ax.view_init(elev=120, azim=-90)\n",
    "        ax.dist = 7.5\n",
    "        #         ax =\n",
    "        plot_xzPlane(MINS[0]-trajec[index, 0], MAXS[0]-trajec[index, 0], 0, MINS[2]-trajec[index, 1], MAXS[2]-trajec[index, 1])\n",
    "#         ax.scatter(data[index, :22, 0], data[index, :22, 1], data[index, :22, 2], color='black', s=3)\n",
    "        \n",
    "        if index > 1:\n",
    "            ax.plot3D(trajec[:index, 0]-trajec[index, 0], np.zeros_like(trajec[:index, 0]), trajec[:index, 1]-trajec[index, 1], linewidth=1.0,\n",
    "                      color='blue')\n",
    "        #             ax = plot_xzPlane(ax, MINS[0], MAXS[0], 0, MINS[2], MAXS[2])\n",
    "        \n",
    "        \n",
    "        for i, (chain, color) in enumerate(zip(kinematic_tree, colors)):\n",
    "#             print(color)\n",
    "            if i < 5:\n",
    "                linewidth = 4.0\n",
    "            else:\n",
    "                linewidth = 2.0\n",
    "            ax.plot3D(data[index, chain, 0], data[index, chain, 1], data[index, chain, 2], linewidth=linewidth, color=color)\n",
    "        #         print(trajec[:index, 0].shape)\n",
    "\n",
    "        plt.axis('off')\n",
    "        ax.set_xticklabels([])\n",
    "        ax.set_yticklabels([])\n",
    "        ax.set_zticklabels([])\n",
    "\n",
    "    ani = FuncAnimation(fig, update, frames=frame_number, interval=1000/fps, repeat=False)\n",
    "\n",
    "    ani.save(save_path, fps=fps)\n",
    "    plt.close()"
   ]
  },
  {
   "cell_type": "code",
   "execution_count": 2,
   "id": "c883258d",
   "metadata": {},
   "outputs": [],
   "source": [
    "src_dir = './dataset/HumanML3D/new_joints/'\n",
    "tgt_ani_dir = \"./save/animations/\""
   ]
  },
  {
   "cell_type": "code",
   "execution_count": 3,
   "id": "3a584dd2",
   "metadata": {},
   "outputs": [],
   "source": [
    "kinematic_chain = [[0, 2, 5, 8, 11], [0, 1, 4, 7, 10], [0, 3, 6, 9, 12, 15], [9, 14, 17, 19, 21], [9, 13, 16, 18, 20]]\n",
    "os.makedirs(tgt_ani_dir, exist_ok=True)"
   ]
  },
  {
   "cell_type": "code",
   "execution_count": 4,
   "id": "9290482f",
   "metadata": {},
   "outputs": [],
   "source": [
    "npy_files = os.listdir(src_dir)\n",
    "npy_files = sorted(npy_files)"
   ]
  },
  {
   "cell_type": "code",
   "execution_count": 5,
   "id": "87c950a9",
   "metadata": {},
   "outputs": [],
   "source": [
    "#for npy_file in tqdm(npy_files):\n",
    "\n",
    "npy_file = npy_files[0]\n"
   ]
  },
  {
   "cell_type": "code",
   "execution_count": 6,
   "id": "f72a2e71",
   "metadata": {},
   "outputs": [
    {
     "data": {
      "text/plain": [
       "'000000.npy'"
      ]
     },
     "execution_count": 6,
     "metadata": {},
     "output_type": "execute_result"
    }
   ],
   "source": [
    "npy_file"
   ]
  },
  {
   "cell_type": "code",
   "execution_count": 7,
   "id": "7520317a",
   "metadata": {},
   "outputs": [
    {
     "name": "stdout",
     "output_type": "stream",
     "text": [
      "ffmpeg:\n",
      "  Installed: 7:4.2.7-0ubuntu0.1\n",
      "  Candidate: 7:4.2.7-0ubuntu0.1\n",
      "  Version table:\n",
      " *** 7:4.2.7-0ubuntu0.1 500\n",
      "        500 http://archive.ubuntu.com/ubuntu focal-updates/universe amd64 Packages\n",
      "        500 http://security.ubuntu.com/ubuntu focal-security/universe amd64 Packages\n",
      "        100 /var/lib/dpkg/status\n",
      "     7:4.2.2-1ubuntu1 500\n",
      "        500 http://archive.ubuntu.com/ubuntu focal/universe amd64 Packages\n"
     ]
    }
   ],
   "source": [
    "!apt policy ffmpeg"
   ]
  },
  {
   "cell_type": "code",
   "execution_count": 8,
   "id": "eb3b2877",
   "metadata": {},
   "outputs": [
    {
     "name": "stderr",
     "output_type": "stream",
     "text": [
      "MovieWriter stderr:\n",
      "[libopenh264 @ 0x5646c31d5f40] Incorrect library version loaded\n",
      "Error initializing output stream 0:0 -- Error while opening encoder for output stream #0:0 - maybe incorrect parameters such as bit_rate, rate, width or height\n",
      "\n"
     ]
    },
    {
     "ename": "CalledProcessError",
     "evalue": "Command '['ffmpeg', '-f', 'rawvideo', '-vcodec', 'rawvideo', '-s', '1000x1000', '-pix_fmt', 'rgba', '-r', '20', '-loglevel', 'error', '-i', 'pipe:', '-vcodec', 'h264', '-pix_fmt', 'yuv420p', '-y', './save/animations/000000.mp4']' returned non-zero exit status 1.",
     "output_type": "error",
     "traceback": [
      "\u001b[0;31m---------------------------------------------------------------------------\u001b[0m",
      "\u001b[0;31mBrokenPipeError\u001b[0m                           Traceback (most recent call last)",
      "File \u001b[0;32m/opt/conda/lib/python3.10/site-packages/matplotlib/animation.py:251\u001b[0m, in \u001b[0;36mAbstractMovieWriter.saving\u001b[0;34m(self, fig, outfile, dpi, *args, **kwargs)\u001b[0m\n\u001b[1;32m    250\u001b[0m \u001b[39mtry\u001b[39;00m:\n\u001b[0;32m--> 251\u001b[0m     \u001b[39myield\u001b[39;00m \u001b[39mself\u001b[39m\n\u001b[1;32m    252\u001b[0m \u001b[39mfinally\u001b[39;00m:\n",
      "File \u001b[0;32m/opt/conda/lib/python3.10/site-packages/matplotlib/animation.py:1161\u001b[0m, in \u001b[0;36mAnimation.save\u001b[0;34m(self, filename, writer, fps, dpi, codec, bitrate, extra_args, metadata, extra_anim, savefig_kwargs, progress_callback)\u001b[0m\n\u001b[1;32m   1160\u001b[0m         frame_number \u001b[39m+\u001b[39m\u001b[39m=\u001b[39m \u001b[39m1\u001b[39m\n\u001b[0;32m-> 1161\u001b[0m writer\u001b[39m.\u001b[39;49mgrab_frame(\u001b[39m*\u001b[39;49m\u001b[39m*\u001b[39;49msavefig_kwargs)\n",
      "File \u001b[0;32m/opt/conda/lib/python3.10/site-packages/matplotlib/animation.py:363\u001b[0m, in \u001b[0;36mMovieWriter.grab_frame\u001b[0;34m(self, **savefig_kwargs)\u001b[0m\n\u001b[1;32m    362\u001b[0m \u001b[39m# Save the figure data to the sink, using the frame format and dpi.\u001b[39;00m\n\u001b[0;32m--> 363\u001b[0m \u001b[39mself\u001b[39;49m\u001b[39m.\u001b[39;49mfig\u001b[39m.\u001b[39;49msavefig(\u001b[39mself\u001b[39;49m\u001b[39m.\u001b[39;49m_frame_sink(), \u001b[39mformat\u001b[39;49m\u001b[39m=\u001b[39;49m\u001b[39mself\u001b[39;49m\u001b[39m.\u001b[39;49mframe_format,\n\u001b[1;32m    364\u001b[0m                  dpi\u001b[39m=\u001b[39;49m\u001b[39mself\u001b[39;49m\u001b[39m.\u001b[39;49mdpi, \u001b[39m*\u001b[39;49m\u001b[39m*\u001b[39;49msavefig_kwargs)\n",
      "File \u001b[0;32m/opt/conda/lib/python3.10/site-packages/matplotlib/figure.py:2311\u001b[0m, in \u001b[0;36mFigure.savefig\u001b[0;34m(self, fname, transparent, **kwargs)\u001b[0m\n\u001b[1;32m   2309\u001b[0m         patch\u001b[39m.\u001b[39mset_edgecolor(\u001b[39m'\u001b[39m\u001b[39mnone\u001b[39m\u001b[39m'\u001b[39m)\n\u001b[0;32m-> 2311\u001b[0m \u001b[39mself\u001b[39;49m\u001b[39m.\u001b[39;49mcanvas\u001b[39m.\u001b[39;49mprint_figure(fname, \u001b[39m*\u001b[39;49m\u001b[39m*\u001b[39;49mkwargs)\n\u001b[1;32m   2313\u001b[0m \u001b[39mif\u001b[39;00m transparent:\n",
      "File \u001b[0;32m/opt/conda/lib/python3.10/site-packages/matplotlib/backend_bases.py:2210\u001b[0m, in \u001b[0;36mFigureCanvasBase.print_figure\u001b[0;34m(self, filename, dpi, facecolor, edgecolor, orientation, format, bbox_inches, pad_inches, bbox_extra_artists, backend, **kwargs)\u001b[0m\n\u001b[1;32m   2209\u001b[0m \u001b[39mtry\u001b[39;00m:\n\u001b[0;32m-> 2210\u001b[0m     result \u001b[39m=\u001b[39m print_method(\n\u001b[1;32m   2211\u001b[0m         filename,\n\u001b[1;32m   2212\u001b[0m         dpi\u001b[39m=\u001b[39;49mdpi,\n\u001b[1;32m   2213\u001b[0m         facecolor\u001b[39m=\u001b[39;49mfacecolor,\n\u001b[1;32m   2214\u001b[0m         edgecolor\u001b[39m=\u001b[39;49medgecolor,\n\u001b[1;32m   2215\u001b[0m         orientation\u001b[39m=\u001b[39;49morientation,\n\u001b[1;32m   2216\u001b[0m         bbox_inches_restore\u001b[39m=\u001b[39;49m_bbox_inches_restore,\n\u001b[1;32m   2217\u001b[0m         \u001b[39m*\u001b[39;49m\u001b[39m*\u001b[39;49mkwargs)\n\u001b[1;32m   2218\u001b[0m \u001b[39mfinally\u001b[39;00m:\n",
      "File \u001b[0;32m/opt/conda/lib/python3.10/site-packages/matplotlib/backend_bases.py:1639\u001b[0m, in \u001b[0;36m_check_savefig_extra_args.<locals>.wrapper\u001b[0;34m(*args, **kwargs)\u001b[0m\n\u001b[1;32m   1637\u001b[0m     kwargs\u001b[39m.\u001b[39mpop(arg)\n\u001b[0;32m-> 1639\u001b[0m \u001b[39mreturn\u001b[39;00m func(\u001b[39m*\u001b[39;49margs, \u001b[39m*\u001b[39;49m\u001b[39m*\u001b[39;49mkwargs)\n",
      "File \u001b[0;32m/opt/conda/lib/python3.10/site-packages/matplotlib/backends/backend_agg.py:456\u001b[0m, in \u001b[0;36mFigureCanvasAgg.print_raw\u001b[0;34m(self, filename_or_obj, *args)\u001b[0m\n\u001b[1;32m    455\u001b[0m \u001b[39mwith\u001b[39;00m cbook\u001b[39m.\u001b[39mopen_file_cm(filename_or_obj, \u001b[39m\"\u001b[39m\u001b[39mwb\u001b[39m\u001b[39m\"\u001b[39m) \u001b[39mas\u001b[39;00m fh:\n\u001b[0;32m--> 456\u001b[0m     fh\u001b[39m.\u001b[39;49mwrite(renderer\u001b[39m.\u001b[39;49mbuffer_rgba())\n",
      "\u001b[0;31mBrokenPipeError\u001b[0m: [Errno 32] Broken pipe",
      "\nDuring handling of the above exception, another exception occurred:\n",
      "\u001b[0;31mCalledProcessError\u001b[0m                        Traceback (most recent call last)",
      "\u001b[1;32m/root/project/Untitled.ipynb Cell 47\u001b[0m line \u001b[0;36m3\n\u001b[1;32m      <a href='vscode-notebook-cell://attached-container%2B7b22636f6e7461696e65724e616d65223a222f61702d626c64222c2273657474696e6773223a7b22686f7374223a227373683a2f2f68313037227d7d/root/project/Untitled.ipynb#X63sdnNjb2RlLXJlbW90ZQ%3D%3D?line=0'>1</a>\u001b[0m data \u001b[39m=\u001b[39m np\u001b[39m.\u001b[39mload(pjoin(src_dir, npy_file))\n\u001b[1;32m      <a href='vscode-notebook-cell://attached-container%2B7b22636f6e7461696e65724e616d65223a222f61702d626c64222c2273657474696e6773223a7b22686f7374223a227373683a2f2f68313037227d7d/root/project/Untitled.ipynb#X63sdnNjb2RlLXJlbW90ZQ%3D%3D?line=1'>2</a>\u001b[0m save_path \u001b[39m=\u001b[39m pjoin(tgt_ani_dir, npy_file[:\u001b[39m-\u001b[39m\u001b[39m3\u001b[39m] \u001b[39m+\u001b[39m \u001b[39m'\u001b[39m\u001b[39mmp4\u001b[39m\u001b[39m'\u001b[39m)\n\u001b[0;32m----> <a href='vscode-notebook-cell://attached-container%2B7b22636f6e7461696e65724e616d65223a222f61702d626c64222c2273657474696e6773223a7b22686f7374223a227373683a2f2f68313037227d7d/root/project/Untitled.ipynb#X63sdnNjb2RlLXJlbW90ZQ%3D%3D?line=2'>3</a>\u001b[0m plot_3d_motion(save_path, kinematic_chain, data, title\u001b[39m=\u001b[39;49m\u001b[39m\"\u001b[39;49m\u001b[39mNone\u001b[39;49m\u001b[39m\"\u001b[39;49m, fps\u001b[39m=\u001b[39;49m\u001b[39m20\u001b[39;49m, radius\u001b[39m=\u001b[39;49m\u001b[39m4\u001b[39;49m)\n",
      "\u001b[1;32m/root/project/Untitled.ipynb Cell 47\u001b[0m line \u001b[0;36m9\n\u001b[1;32m     <a href='vscode-notebook-cell://attached-container%2B7b22636f6e7461696e65724e616d65223a222f61702d626c64222c2273657474696e6773223a7b22686f7374223a227373683a2f2f68313037227d7d/root/project/Untitled.ipynb#X63sdnNjb2RlLXJlbW90ZQ%3D%3D?line=89'>90</a>\u001b[0m     ax\u001b[39m.\u001b[39mset_zticklabels([])\n\u001b[1;32m     <a href='vscode-notebook-cell://attached-container%2B7b22636f6e7461696e65724e616d65223a222f61702d626c64222c2273657474696e6773223a7b22686f7374223a227373683a2f2f68313037227d7d/root/project/Untitled.ipynb#X63sdnNjb2RlLXJlbW90ZQ%3D%3D?line=91'>92</a>\u001b[0m ani \u001b[39m=\u001b[39m FuncAnimation(fig, update, frames\u001b[39m=\u001b[39mframe_number, interval\u001b[39m=\u001b[39m\u001b[39m1000\u001b[39m\u001b[39m/\u001b[39mfps, repeat\u001b[39m=\u001b[39m\u001b[39mFalse\u001b[39;00m)\n\u001b[0;32m---> <a href='vscode-notebook-cell://attached-container%2B7b22636f6e7461696e65724e616d65223a222f61702d626c64222c2273657474696e6773223a7b22686f7374223a227373683a2f2f68313037227d7d/root/project/Untitled.ipynb#X63sdnNjb2RlLXJlbW90ZQ%3D%3D?line=93'>94</a>\u001b[0m ani\u001b[39m.\u001b[39;49msave(save_path, fps\u001b[39m=\u001b[39;49mfps)\n\u001b[1;32m     <a href='vscode-notebook-cell://attached-container%2B7b22636f6e7461696e65724e616d65223a222f61702d626c64222c2273657474696e6773223a7b22686f7374223a227373683a2f2f68313037227d7d/root/project/Untitled.ipynb#X63sdnNjb2RlLXJlbW90ZQ%3D%3D?line=94'>95</a>\u001b[0m plt\u001b[39m.\u001b[39mclose()\n",
      "File \u001b[0;32m/opt/conda/lib/python3.10/site-packages/matplotlib/animation.py:1139\u001b[0m, in \u001b[0;36mAnimation.save\u001b[0;34m(self, filename, writer, fps, dpi, codec, bitrate, extra_args, metadata, extra_anim, savefig_kwargs, progress_callback)\u001b[0m\n\u001b[1;32m   1133\u001b[0m     _log\u001b[39m.\u001b[39minfo(\u001b[39m\"\u001b[39m\u001b[39mDisabling savefig.bbox = \u001b[39m\u001b[39m'\u001b[39m\u001b[39mtight\u001b[39m\u001b[39m'\u001b[39m\u001b[39m, as it may cause \u001b[39m\u001b[39m\"\u001b[39m\n\u001b[1;32m   1134\u001b[0m               \u001b[39m\"\u001b[39m\u001b[39mframe size to vary, which is inappropriate for \u001b[39m\u001b[39m\"\u001b[39m\n\u001b[1;32m   1135\u001b[0m               \u001b[39m\"\u001b[39m\u001b[39manimation.\u001b[39m\u001b[39m\"\u001b[39m)\n\u001b[1;32m   1136\u001b[0m \u001b[39m# canvas._is_saving = True makes the draw_event animation-starting\u001b[39;00m\n\u001b[1;32m   1137\u001b[0m \u001b[39m# callback a no-op; canvas.manager = None prevents resizing the GUI\u001b[39;00m\n\u001b[1;32m   1138\u001b[0m \u001b[39m# widget (both are likewise done in savefig()).\u001b[39;00m\n\u001b[0;32m-> 1139\u001b[0m \u001b[39mwith\u001b[39;00m mpl\u001b[39m.\u001b[39mrc_context({\u001b[39m'\u001b[39m\u001b[39msavefig.bbox\u001b[39m\u001b[39m'\u001b[39m: \u001b[39mNone\u001b[39;00m}), \\\n\u001b[1;32m   1140\u001b[0m      writer\u001b[39m.\u001b[39msaving(\u001b[39mself\u001b[39m\u001b[39m.\u001b[39m_fig, filename, dpi), \\\n\u001b[1;32m   1141\u001b[0m      cbook\u001b[39m.\u001b[39m_setattr_cm(\u001b[39mself\u001b[39m\u001b[39m.\u001b[39m_fig\u001b[39m.\u001b[39mcanvas,\n\u001b[1;32m   1142\u001b[0m                        _is_saving\u001b[39m=\u001b[39m\u001b[39mTrue\u001b[39;00m, manager\u001b[39m=\u001b[39m\u001b[39mNone\u001b[39;00m):\n\u001b[1;32m   1143\u001b[0m     \u001b[39mfor\u001b[39;00m anim \u001b[39min\u001b[39;00m all_anim:\n\u001b[1;32m   1144\u001b[0m         anim\u001b[39m.\u001b[39m_init_draw()  \u001b[39m# Clear the initial frame\u001b[39;00m\n",
      "File \u001b[0;32m/opt/conda/lib/python3.10/contextlib.py:153\u001b[0m, in \u001b[0;36m_GeneratorContextManager.__exit__\u001b[0;34m(self, typ, value, traceback)\u001b[0m\n\u001b[1;32m    151\u001b[0m     value \u001b[39m=\u001b[39m typ()\n\u001b[1;32m    152\u001b[0m \u001b[39mtry\u001b[39;00m:\n\u001b[0;32m--> 153\u001b[0m     \u001b[39mself\u001b[39;49m\u001b[39m.\u001b[39;49mgen\u001b[39m.\u001b[39;49mthrow(typ, value, traceback)\n\u001b[1;32m    154\u001b[0m \u001b[39mexcept\u001b[39;00m \u001b[39mStopIteration\u001b[39;00m \u001b[39mas\u001b[39;00m exc:\n\u001b[1;32m    155\u001b[0m     \u001b[39m# Suppress StopIteration *unless* it's the same exception that\u001b[39;00m\n\u001b[1;32m    156\u001b[0m     \u001b[39m# was passed to throw().  This prevents a StopIteration\u001b[39;00m\n\u001b[1;32m    157\u001b[0m     \u001b[39m# raised inside the \"with\" statement from being suppressed.\u001b[39;00m\n\u001b[1;32m    158\u001b[0m     \u001b[39mreturn\u001b[39;00m exc \u001b[39mis\u001b[39;00m \u001b[39mnot\u001b[39;00m value\n",
      "File \u001b[0;32m/opt/conda/lib/python3.10/site-packages/matplotlib/animation.py:253\u001b[0m, in \u001b[0;36mAbstractMovieWriter.saving\u001b[0;34m(self, fig, outfile, dpi, *args, **kwargs)\u001b[0m\n\u001b[1;32m    251\u001b[0m     \u001b[39myield\u001b[39;00m \u001b[39mself\u001b[39m\n\u001b[1;32m    252\u001b[0m \u001b[39mfinally\u001b[39;00m:\n\u001b[0;32m--> 253\u001b[0m     \u001b[39mself\u001b[39;49m\u001b[39m.\u001b[39;49mfinish()\n",
      "File \u001b[0;32m/opt/conda/lib/python3.10/site-packages/matplotlib/animation.py:354\u001b[0m, in \u001b[0;36mMovieWriter.finish\u001b[0;34m(self)\u001b[0m\n\u001b[1;32m    352\u001b[0m \u001b[39mdef\u001b[39;00m \u001b[39mfinish\u001b[39m(\u001b[39mself\u001b[39m):\n\u001b[1;32m    353\u001b[0m \u001b[39m    \u001b[39m\u001b[39m\"\"\"Finish any processing for writing the movie.\"\"\"\u001b[39;00m\n\u001b[0;32m--> 354\u001b[0m     \u001b[39mself\u001b[39;49m\u001b[39m.\u001b[39;49mcleanup()\n",
      "File \u001b[0;32m/opt/conda/lib/python3.10/site-packages/matplotlib/animation.py:390\u001b[0m, in \u001b[0;36mMovieWriter.cleanup\u001b[0;34m(self)\u001b[0m\n\u001b[1;32m    386\u001b[0m     _log\u001b[39m.\u001b[39mlog(\n\u001b[1;32m    387\u001b[0m         logging\u001b[39m.\u001b[39mWARNING \u001b[39mif\u001b[39;00m \u001b[39mself\u001b[39m\u001b[39m.\u001b[39m_proc\u001b[39m.\u001b[39mreturncode \u001b[39melse\u001b[39;00m logging\u001b[39m.\u001b[39mDEBUG,\n\u001b[1;32m    388\u001b[0m         \u001b[39m\"\u001b[39m\u001b[39mMovieWriter stderr:\u001b[39m\u001b[39m\\n\u001b[39;00m\u001b[39m%s\u001b[39;00m\u001b[39m\"\u001b[39m, err)\n\u001b[1;32m    389\u001b[0m \u001b[39mif\u001b[39;00m \u001b[39mself\u001b[39m\u001b[39m.\u001b[39m_proc\u001b[39m.\u001b[39mreturncode:\n\u001b[0;32m--> 390\u001b[0m     \u001b[39mraise\u001b[39;00m subprocess\u001b[39m.\u001b[39mCalledProcessError(\n\u001b[1;32m    391\u001b[0m         \u001b[39mself\u001b[39m\u001b[39m.\u001b[39m_proc\u001b[39m.\u001b[39mreturncode, \u001b[39mself\u001b[39m\u001b[39m.\u001b[39m_proc\u001b[39m.\u001b[39margs, out, err)\n",
      "\u001b[0;31mCalledProcessError\u001b[0m: Command '['ffmpeg', '-f', 'rawvideo', '-vcodec', 'rawvideo', '-s', '1000x1000', '-pix_fmt', 'rgba', '-r', '20', '-loglevel', 'error', '-i', 'pipe:', '-vcodec', 'h264', '-pix_fmt', 'yuv420p', '-y', './save/animations/000000.mp4']' returned non-zero exit status 1."
     ]
    },
    {
     "data": {
      "image/png": "[encoded data removed]",
      "text/plain": [
       "<Figure size 1000x1000 with 1 Axes>"
      ]
     },
     "metadata": {},
     "output_type": "display_data"
    }
   ],
   "source": [
    "data = np.load(pjoin(src_dir, npy_file))\n",
    "save_path = pjoin(tgt_ani_dir, npy_file[:-3] + 'mp4')\n",
    "plot_3d_motion(save_path, kinematic_chain, data, title=\"None\", fps=20, radius=4)"
   ]
  },
  {
   "cell_type": "markdown",
   "id": "3f9d432c",
   "metadata": {},
   "source": []
  }
 ],
 "metadata": {
  "kernelspec": {
   "display_name": "Python 3 (ipykernel)",
   "language": "python",
   "name": "python3"
  },
  "language_info": {
   "codemirror_mode": {
    "name": "ipython",
    "version": 3
   },
   "file_extension": ".py",
   "mimetype": "text/x-python",
   "name": "python",
   "nbconvert_exporter": "python",
   "pygments_lexer": "ipython3",
   "version": "3.10.11"
  }
 },
 "nbformat": 4,
 "nbformat_minor": 5
}
